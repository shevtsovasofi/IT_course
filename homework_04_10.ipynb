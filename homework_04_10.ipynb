{
  "nbformat": 4,
  "nbformat_minor": 0,
  "metadata": {
    "colab": {
      "provenance": [],
      "authorship_tag": "ABX9TyNx9y2M+HVtGJxE3sKdgSMx",
      "include_colab_link": true
    },
    "kernelspec": {
      "name": "python3",
      "display_name": "Python 3"
    },
    "language_info": {
      "name": "python"
    }
  },
  "cells": [
    {
      "cell_type": "markdown",
      "metadata": {
        "id": "view-in-github",
        "colab_type": "text"
      },
      "source": [
        "<a href=\"https://colab.research.google.com/github/shevtsovasofi/IT_course/blob/main/homework_04_10.ipynb\" target=\"_parent\"><img src=\"https://colab.research.google.com/assets/colab-badge.svg\" alt=\"Open In Colab\"/></a>"
      ]
    },
    {
      "cell_type": "markdown",
      "source": [],
      "metadata": {
        "id": "ImxsG88tMxOC"
      }
    },
    {
      "cell_type": "markdown",
      "source": [
        "# **Упражнения**\n",
        "\n",
        "\n"
      ],
      "metadata": {
        "id": "puzDW-nNnPyc"
      }
    },
    {
      "cell_type": "markdown",
      "source": [
        "# **JSON**"
      ],
      "metadata": {
        "id": "F8ldzjvf-1t5"
      }
    },
    {
      "cell_type": "markdown",
      "source": [
        "**Упражнение 1.** Write a Python program to convert JSON data to Python object.\n"
      ],
      "metadata": {
        "id": "1Div-sSMMycC"
      }
    },
    {
      "cell_type": "code",
      "execution_count": 28,
      "metadata": {
        "id": "JHoAOAiVMwrs",
        "colab": {
          "base_uri": "https://localhost:8080/"
        },
        "outputId": "903da1f1-71e9-4532-8273-f441c028557f"
      },
      "outputs": [
        {
          "output_type": "stream",
          "name": "stdout",
          "text": [
            "\n",
            "JSON data:\n",
            "{'Name': 'Alex', 'Age': '19', 'Job': 'Teacher'}\n",
            "\n",
            "Name:  Alex\n",
            "Age:  19\n",
            "Job:  Teacher\n"
          ]
        }
      ],
      "source": [
        "import json\n",
        "json_obj =  '{ \"Name\":\"Alex\", \"Age\":\"19\", \"Job\":\"Teacher\"}'\n",
        "python_obj = json.loads(json_obj)\n",
        "print(\"\\nJSON data:\")\n",
        "print(python_obj)\n",
        "print(\"\\nName: \",python_obj[\"Name\"])\n",
        "print(\"Age: \",python_obj[\"Age\"])\n",
        "print(\"Job: \",python_obj[\"Job\"])"
      ]
    },
    {
      "cell_type": "markdown",
      "source": [
        "**Упражнение 2.** Write a Python program to convert Python object to JSON data.\n"
      ],
      "metadata": {
        "id": "8ctx7aM2nbmP"
      }
    },
    {
      "cell_type": "code",
      "source": [
        "import json\n",
        "python_obj = {\n",
        "  \"name\": \"Alex\",\n",
        "  \"age\":\"19\",\n",
        "  \"job\": \"teacher\"\n",
        "}\n",
        "print(type(python_obj))\n",
        "j_data = json.dumps(python_obj)\n",
        "print(j_data)"
      ],
      "metadata": {
        "id": "gNx6HMYgnbVj",
        "colab": {
          "base_uri": "https://localhost:8080/"
        },
        "outputId": "a6779196-a6bf-4b89-da74-dbeaac161622"
      },
      "execution_count": 29,
      "outputs": [
        {
          "output_type": "stream",
          "name": "stdout",
          "text": [
            "<class 'dict'>\n",
            "{\"name\": \"Alex\", \"age\": \"19\", \"job\": \"teacher\"}\n"
          ]
        }
      ]
    },
    {
      "cell_type": "markdown",
      "source": [
        "**Упражнение 3.** Write a Python program to convert Python objects into JSON strings. Print all the values."
      ],
      "metadata": {
        "id": "VczX07iG1n5-"
      }
    },
    {
      "cell_type": "code",
      "source": [
        "import json\n",
        "python_dict =  {\"name\": \"Alex\", \"job\": \"teacher\", \"age\":\"19\"}\n",
        "python_list =  [\"one\", \"two\", \"three\"]\n",
        "python_str =  \"hello world\"\n",
        "python_int =  (101112)\n",
        "python_float =  (3827982.29)\n",
        "python_t =  (True)\n",
        "python_f =  (False)\n",
        "python_n =  (None)\n",
        "\n",
        "json_dict = json.dumps(python_dict)\n",
        "json_list = json.dumps(python_list)\n",
        "json_str = json.dumps(python_str)\n",
        "json_num1 = json.dumps(python_int)\n",
        "json_num2 = json.dumps(python_float)\n",
        "json_t = json.dumps(python_t)\n",
        "json_f = json.dumps(python_f)\n",
        "json_n = json.dumps(python_n)\n",
        "\n",
        "print(\"json dictionary: \", json_dict)\n",
        "print(\"jason list of numbers: \", json_list)\n",
        "print(\"json basic string: \", json_str)\n",
        "print(\"json numbers: \", json_num1)\n",
        "print(\"json number with a dot: \", json_num2)\n",
        "print(\"json true info: \", json_t)\n",
        "print(\"json false info: \", json_f)\n",
        "print(\"json zero: \", json_n)"
      ],
      "metadata": {
        "colab": {
          "base_uri": "https://localhost:8080/"
        },
        "id": "Yx2dryEH2GSF",
        "outputId": "a8580c70-2e20-45c1-8454-820db2afd13f"
      },
      "execution_count": 30,
      "outputs": [
        {
          "output_type": "stream",
          "name": "stdout",
          "text": [
            "json dictionary:  {\"name\": \"Alex\", \"job\": \"teacher\", \"age\": \"19\"}\n",
            "jason list of numbers:  [\"one\", \"two\", \"three\"]\n",
            "json basic string:  \"hello world\"\n",
            "json numbers:  101112\n",
            "json number with a dot:  3827982.29\n",
            "json true info:  true\n",
            "json false info:  false\n",
            "json zero:  null\n"
          ]
        }
      ]
    },
    {
      "cell_type": "markdown",
      "source": [
        "**Упражнение 4.** Write a Python program to convert Python dictionary object (sort by key) to JSON data. Print the object members with indent level 4.\n",
        "\n"
      ],
      "metadata": {
        "id": "stltoAlJ3Wpg"
      }
    },
    {
      "cell_type": "code",
      "source": [
        "import json\n",
        "j_str = {'92': 40, '90': 7, '82': 94, '73': 37}\n",
        "print(\"Original String:\")\n",
        "print(j_str)\n",
        "print(\"\\nJSON data:\")\n",
        "print(json.dumps(j_str, sort_keys=True, indent=4))"
      ],
      "metadata": {
        "colab": {
          "base_uri": "https://localhost:8080/"
        },
        "id": "N1tYKGt95qK2",
        "outputId": "c74141cd-51ad-4f33-d1d7-4f3b8665a08b"
      },
      "execution_count": 31,
      "outputs": [
        {
          "output_type": "stream",
          "name": "stdout",
          "text": [
            "Original String:\n",
            "{'92': 40, '90': 7, '82': 94, '73': 37}\n",
            "\n",
            "JSON data:\n",
            "{\n",
            "    \"73\": 37,\n",
            "    \"82\": 94,\n",
            "    \"90\": 7,\n",
            "    \"92\": 40\n",
            "}\n"
          ]
        }
      ]
    },
    {
      "cell_type": "markdown",
      "source": [
        "**Упражнение 5.** Write a Python program to convert JSON encoded data into Python objects.\n",
        "\n"
      ],
      "metadata": {
        "id": "ZTILZ5fb6W-m"
      }
    },
    {
      "cell_type": "code",
      "source": [
        "import json\n",
        "\n",
        "jobj_dict =  '{\"name\": \"Alex\", \"job\": \"teacher\", \"age\": \"19\"}'\n",
        "jobj_list =   '[\"one\", \"two\", \"three\"]'\n",
        "jobj_string = '\"Hello world\"'\n",
        "jobj_int = '329489'\n",
        "jobj_float =  '934943040.393929'\n",
        "python_dict =  json.loads(jobj_dict)\n",
        "python_list = json.loads(jobj_list)\n",
        "python_str =  json.loads(jobj_string)\n",
        "python_int =   json.loads(jobj_int)\n",
        "python_float = json.loads(jobj_float)\n",
        "\n",
        "print(\"Python dictionary: \", python_dict)\n",
        "print(\"Python list: \", python_list)\n",
        "print(\"Python string: \", python_str)\n",
        "print(\"Python integer: \", python_int)\n",
        "print(\"Python float: \", python_float)\n"
      ],
      "metadata": {
        "colab": {
          "base_uri": "https://localhost:8080/"
        },
        "id": "mdUlyOQt6ZrH",
        "outputId": "03d10eb7-25f9-4ecf-c2c9-b00b701b8c94"
      },
      "execution_count": 32,
      "outputs": [
        {
          "output_type": "stream",
          "name": "stdout",
          "text": [
            "Python dictionary:  {'name': 'Alex', 'job': 'teacher', 'age': '19'}\n",
            "Python list:  ['one', 'two', 'three']\n",
            "Python string:  Hello world\n",
            "Python integer:  329489\n",
            "Python float:  934943040.393929\n"
          ]
        }
      ]
    },
    {
      "cell_type": "markdown",
      "source": [
        "**Упражнение 7.**"
      ],
      "metadata": {
        "id": "Fp6z1b9H6c_V"
      }
    },
    {
      "cell_type": "code",
      "source": [
        "import json\n",
        "\n",
        "def encode_complex(object):\n",
        "    if isinstance(object, complex):\n",
        "        return [object.real, object.imag]\n",
        "    raise TypeError(repr(object) + \" is not JSON serialized\")\n",
        "\n",
        "complex_obj = json.dumps(2 + 3j, default=encode_complex)\n",
        "print(complex_obj)"
      ],
      "metadata": {
        "colab": {
          "base_uri": "https://localhost:8080/"
        },
        "id": "2ipKMMQq6mKq",
        "outputId": "e5e1aa79-2d40-4924-e7ca-e5f2f7167cb8"
      },
      "execution_count": 33,
      "outputs": [
        {
          "output_type": "stream",
          "name": "stdout",
          "text": [
            "[2.0, 3.0]\n"
          ]
        }
      ]
    },
    {
      "cell_type": "markdown",
      "source": [
        "**Упражнение 8**. Write a Python program to check whether a JSON string contains complex object or not.\n",
        "\n"
      ],
      "metadata": {
        "id": "7i8YtOnw6mZ1"
      }
    },
    {
      "cell_type": "code",
      "source": [
        "import json\n",
        "def is_complex_num(objct):\n",
        "    if '__complex__' in objct:\n",
        "        return complex(objct['real'], objct['img'])\n",
        "    return objct\n",
        "\n",
        "complex_object =json.loads('{\"__complex__\": true, \"real\": 78, \"img\": 94}', object_hook = is_complex_num)\n",
        "simple_object =json.loads('{\"real\": 78, \"img\": 94}', object_hook = is_complex_num)\n",
        "print(\"Complex_object: \",complex_object)\n",
        "print(\"Without complex object: \",simple_object)"
      ],
      "metadata": {
        "colab": {
          "base_uri": "https://localhost:8080/"
        },
        "id": "h_OimADP6pJu",
        "outputId": "730ac0f4-d681-48dd-cb40-6d99f5fd9db7"
      },
      "execution_count": 34,
      "outputs": [
        {
          "output_type": "stream",
          "name": "stdout",
          "text": [
            "Complex_object:  (78+94j)\n",
            "Without complex object:  {'real': 78, 'img': 94}\n"
          ]
        }
      ]
    },
    {
      "cell_type": "markdown",
      "source": [
        "**Упражнение 9**. Write a Python program to access only unique key value of a Python object.\n"
      ],
      "metadata": {
        "id": "ZsZSBBon6pR6"
      }
    },
    {
      "cell_type": "code",
      "source": [
        "import json\n",
        "python_obj = '{\"a\":  1, \"a\":  2, \"a\":  3, \"a\": 4, \"b\": 1, \"b\": 2}'\n",
        "\n",
        "json_obj = json.loads(python_obj)\n",
        "print(\"\\nUnique Key in a JSON object:\")\n",
        "print(json_obj)"
      ],
      "metadata": {
        "colab": {
          "base_uri": "https://localhost:8080/"
        },
        "id": "_HLnfmN--Kib",
        "outputId": "cb44b7e2-247a-4156-c63f-2f96693e0c29"
      },
      "execution_count": 35,
      "outputs": [
        {
          "output_type": "stream",
          "name": "stdout",
          "text": [
            "\n",
            "Unique Key in a JSON object:\n",
            "{'a': 4, 'b': 2}\n"
          ]
        }
      ]
    },
    {
      "cell_type": "markdown",
      "source": [
        "### ***Упражнения CSV***"
      ],
      "metadata": {
        "id": "W7jD0Q9B-b1C"
      }
    },
    {
      "cell_type": "markdown",
      "source": [
        "**Упражнение 1** Write a Python program to read each row from a given csv file and print a list of strings."
      ],
      "metadata": {
        "id": "OWB6t2DF-byS"
      }
    },
    {
      "cell_type": "code",
      "source": [
        "import csv\n",
        "with open('#название файла#', newline='') as csvfile:\n",
        " data = csv.reader(csvfile, delimiter=' ', quotechar='|')\n",
        " for row in data:\n",
        "   print(', '.join(row))"
      ],
      "metadata": {
        "colab": {
          "base_uri": "https://localhost:8080/",
          "height": 207
        },
        "id": "zLG_rUov_vQL",
        "outputId": "17a4281c-3420-4e67-b05a-e6d2ce0f4c14"
      },
      "execution_count": 36,
      "outputs": [
        {
          "output_type": "error",
          "ename": "FileNotFoundError",
          "evalue": "[Errno 2] No such file or directory: '#название файла#'",
          "traceback": [
            "\u001b[0;31m---------------------------------------------------------------------------\u001b[0m",
            "\u001b[0;31mFileNotFoundError\u001b[0m                         Traceback (most recent call last)",
            "\u001b[0;32m<ipython-input-36-2b1cb14427f0>\u001b[0m in \u001b[0;36m<cell line: 2>\u001b[0;34m()\u001b[0m\n\u001b[1;32m      1\u001b[0m \u001b[0;32mimport\u001b[0m \u001b[0mcsv\u001b[0m\u001b[0;34m\u001b[0m\u001b[0;34m\u001b[0m\u001b[0m\n\u001b[0;32m----> 2\u001b[0;31m \u001b[0;32mwith\u001b[0m \u001b[0mopen\u001b[0m\u001b[0;34m(\u001b[0m\u001b[0;34m'#название файла#'\u001b[0m\u001b[0;34m,\u001b[0m \u001b[0mnewline\u001b[0m\u001b[0;34m=\u001b[0m\u001b[0;34m''\u001b[0m\u001b[0;34m)\u001b[0m \u001b[0;32mas\u001b[0m \u001b[0mcsvfile\u001b[0m\u001b[0;34m:\u001b[0m\u001b[0;34m\u001b[0m\u001b[0;34m\u001b[0m\u001b[0m\n\u001b[0m\u001b[1;32m      3\u001b[0m  \u001b[0mdata\u001b[0m \u001b[0;34m=\u001b[0m \u001b[0mcsv\u001b[0m\u001b[0;34m.\u001b[0m\u001b[0mreader\u001b[0m\u001b[0;34m(\u001b[0m\u001b[0mcsvfile\u001b[0m\u001b[0;34m,\u001b[0m \u001b[0mdelimiter\u001b[0m\u001b[0;34m=\u001b[0m\u001b[0;34m' '\u001b[0m\u001b[0;34m,\u001b[0m \u001b[0mquotechar\u001b[0m\u001b[0;34m=\u001b[0m\u001b[0;34m'|'\u001b[0m\u001b[0;34m)\u001b[0m\u001b[0;34m\u001b[0m\u001b[0;34m\u001b[0m\u001b[0m\n\u001b[1;32m      4\u001b[0m  \u001b[0;32mfor\u001b[0m \u001b[0mrow\u001b[0m \u001b[0;32min\u001b[0m \u001b[0mdata\u001b[0m\u001b[0;34m:\u001b[0m\u001b[0;34m\u001b[0m\u001b[0;34m\u001b[0m\u001b[0m\n\u001b[1;32m      5\u001b[0m    \u001b[0mprint\u001b[0m\u001b[0;34m(\u001b[0m\u001b[0;34m', '\u001b[0m\u001b[0;34m.\u001b[0m\u001b[0mjoin\u001b[0m\u001b[0;34m(\u001b[0m\u001b[0mrow\u001b[0m\u001b[0;34m)\u001b[0m\u001b[0;34m)\u001b[0m\u001b[0;34m\u001b[0m\u001b[0;34m\u001b[0m\u001b[0m\n",
            "\u001b[0;31mFileNotFoundError\u001b[0m: [Errno 2] No such file or directory: '#название файла#'"
          ]
        }
      ]
    },
    {
      "cell_type": "markdown",
      "source": [
        "**Упражнение 2**. Write a Python program to read a given CSV file having tab delimiter.\n",
        "\n",
        "\n"
      ],
      "metadata": {
        "id": "Uy5_JJYe-Z95"
      }
    },
    {
      "cell_type": "code",
      "source": [
        "import csv\n",
        "with open('#Название файла#', newline='') as csvfile:\n",
        " data = csv.reader(csvfile, delimiter = '\\t')\n",
        " for row in data:\n",
        "   print(', '.join(row))"
      ],
      "metadata": {
        "id": "-RpP1xC9BgR2"
      },
      "execution_count": null,
      "outputs": []
    },
    {
      "cell_type": "markdown",
      "source": [
        "**Упражнение 3**. Write a Python program to read a given CSV file as a list."
      ],
      "metadata": {
        "id": "MNjPmoiPBpwq"
      }
    },
    {
      "cell_type": "code",
      "source": [
        "import csv\n",
        "with open('#Название файла#', newline='') as f:\n",
        "   reader = csv.reader(f)\n",
        "   data_list = list(reader)\n",
        "print(data_list)"
      ],
      "metadata": {
        "id": "HYiqUXAKCBU-"
      },
      "execution_count": null,
      "outputs": []
    },
    {
      "cell_type": "markdown",
      "source": [
        "**Упражнение 4**. Write a Python program to read a given CSV file as a dictionary.\n",
        "\n"
      ],
      "metadata": {
        "id": "_Vt-AyYfCNLD"
      }
    },
    {
      "cell_type": "code",
      "source": [
        "import csv\n",
        "data = csv.DictReader(open(\"#Название файла#\"))\n",
        "print(\"CSV file as a dictionary:\\n\")\n",
        "for row in data:\n",
        "   print(row)"
      ],
      "metadata": {
        "id": "n5BOjXV4CM8y"
      },
      "execution_count": null,
      "outputs": []
    },
    {
      "cell_type": "markdown",
      "source": [
        "**Упражнение 5**. Write a Python program to read a given CSV files with initial spaces after a delimiter and remove those initial spaces.\n",
        "\n",
        "\n",
        "\n"
      ],
      "metadata": {
        "id": "hr-D9PmACeVZ"
      }
    },
    {
      "cell_type": "code",
      "source": [
        "import csv\n",
        "print(\"\\nWith initial spaces after a delimiter:\\n\")\n",
        "with open('#Название файла#', 'r') as csvfile:\n",
        "   data = csv.reader(csvfile, skipinitialspace=False)\n",
        "   for row in data:\n",
        "     print(', '.join(row))\n",
        "print(\"\\n\\nWithout initial spaces after a delimiter:\\n\")\n",
        "with open('#Название файла#', 'r') as csvfile:\n",
        "   data = csv.reader(csvfile, skipinitialspace=True)\n",
        "   for row in data:\n",
        "     print(', '.join(row))"
      ],
      "metadata": {
        "id": "PaE9a4HSCeey"
      },
      "execution_count": null,
      "outputs": []
    },
    {
      "cell_type": "markdown",
      "source": [
        "**Упражнение 6**. Write a Python program that reads a CSV file and remove initial spaces, quotes around each entry and the delimiter.\n",
        "\n"
      ],
      "metadata": {
        "id": "kO7u3a5cCenn"
      }
    },
    {
      "cell_type": "code",
      "source": [
        "import csv\n",
        "csv.register_dialect('#Название файла#',\n",
        "                    delimiter='|',\n",
        "                    skipinitialspace=True,\n",
        "                    quoting=csv.QUOTE_ALL)\n",
        "with open('temp.csv', 'r') as csvfile:\n",
        "   reader = csv.reader(csvfile, dialect='#Название файла#')\n",
        "   for row in reader:\n",
        "       print(row)"
      ],
      "metadata": {
        "id": "eAe3EXefCeur"
      },
      "execution_count": null,
      "outputs": []
    },
    {
      "cell_type": "markdown",
      "source": [
        "**Упражнение 7.** Write a Python program to read specific columns of a given CSV file and print the content of the columns.\n",
        "\n"
      ],
      "metadata": {
        "id": "3NN6j-cJCe1g"
      }
    },
    {
      "cell_type": "code",
      "source": [
        "import csv\n",
        "with open('#Название файла#', newline='') as csvfile:\n",
        " data = csv.DictReader(csvfile)\n",
        " print(\"#Название#\")\n",
        " print(\"---------------------------------\")\n",
        " for row in data:\n",
        "   print(row['#название колонки'], row['название колонки'])"
      ],
      "metadata": {
        "id": "yIKVmzpLCe8V"
      },
      "execution_count": null,
      "outputs": []
    },
    {
      "cell_type": "markdown",
      "source": [
        "**Упражнение 8** Write a Python program that reads each row of a given csv file and skip the header of the file. Also print the number of rows and the field names.\n",
        "\n",
        "\n"
      ],
      "metadata": {
        "id": "4aCvldhqCfC2"
      }
    },
    {
      "cell_type": "code",
      "source": [
        "import csv\n",
        "fields = []\n",
        "rows = []\n",
        "with open('#Название файла#', newline='') as csvfile:\n",
        " data = csv.reader(csvfile, delimiter=' ', quotechar=',')\n",
        " fields = next(data)\n",
        " for row in data:\n",
        "   print(', '.join(row))\n",
        "print(\"\\nTotal no. of rows: %d\"%(data.line_num))\n",
        "print('Field names are:')\n",
        "print(', '.join(field for field in fields))"
      ],
      "metadata": {
        "id": "V5tWSY7_CfJw"
      },
      "execution_count": null,
      "outputs": []
    },
    {
      "cell_type": "markdown",
      "source": [
        "**Упражнение 9** Write a Python program to create an object for writing and iterate over the rows to print the values.\n",
        "\n"
      ],
      "metadata": {
        "id": "OfGr4iPrCfP-"
      }
    },
    {
      "cell_type": "code",
      "source": [
        "import csv\n",
        "import sys\n",
        "with open('temp.csv', 'wt') as f:\n",
        "    writer = csv.writer(f)\n",
        "    writer.writerow(('id1', 'id2', 'date'))\n",
        "    for i in range(3):\n",
        "        row = (\n",
        "            i + 1,\n",
        "            chr(ord('a') + i),\n",
        "            '01/{:02d}/2019'.format(i + 1),)\n",
        "        writer.writerow(row)\n",
        "print(open('temp.csv', 'rt').read())"
      ],
      "metadata": {
        "colab": {
          "base_uri": "https://localhost:8080/"
        },
        "id": "TR29D5dZCfW0",
        "outputId": "4af61713-ce87-4911-c913-c9a60968818d"
      },
      "execution_count": 37,
      "outputs": [
        {
          "output_type": "stream",
          "name": "stdout",
          "text": [
            "id1,id2,date\n",
            "1,a,01/01/2019\n",
            "2,b,01/02/2019\n",
            "3,c,01/03/2019\n",
            "\n"
          ]
        }
      ]
    },
    {
      "cell_type": "markdown",
      "source": [
        "**Упражнение 10** Write a Python program to write a Python list of lists to a csv file. After writing the CSV file read the CSV file and display the content.\n",
        "\n"
      ],
      "metadata": {
        "id": "3O2LqgIwCzHm"
      }
    },
    {
      "cell_type": "code",
      "source": [
        "import csv\n",
        "data = [[10,'a1', 1], [12,'a2', 3], [14, 'a3', 5], [16, 'a4', 7], [18, 'a5', 9]]\n",
        "with open(\"temp.csv\", \"w\", newline=\"\") as f:\n",
        "   writer = csv.writer(f)\n",
        "   writer.writerows(data)\n",
        "with open('temp.csv', newline='') as csvfile:\n",
        " data = csv.reader(csvfile, delimiter=' ')\n",
        " for row in data:\n",
        "   print(', '.join(row))"
      ],
      "metadata": {
        "colab": {
          "base_uri": "https://localhost:8080/"
        },
        "id": "g8WS8B11CzRQ",
        "outputId": "8f3e44b6-be9d-4001-b99d-d5edf18398e1"
      },
      "execution_count": 38,
      "outputs": [
        {
          "output_type": "stream",
          "name": "stdout",
          "text": [
            "10,a1,1\n",
            "12,a2,3\n",
            "14,a3,5\n",
            "16,a4,7\n",
            "18,a5,9\n"
          ]
        }
      ]
    },
    {
      "cell_type": "markdown",
      "source": [
        "**Упражнение 11** Write a Python program to write a Python dictionary to a csv file. After writing the CSV file read the CSV file and display the content.\n",
        "\n"
      ],
      "metadata": {
        "id": "X0RE38jqCzYk"
      }
    },
    {
      "cell_type": "code",
      "source": [
        "import csv\n",
        "csv_columns = ['id','Column1', 'Column2', 'Column3', 'Column4', 'Column5']\n",
        "dict_data = {'id':['1', '2', '3'],\n",
        "    'Column1':[33, 25, 56],\n",
        "    'Column2':[35, 30, 30],\n",
        "    'Column3':[21, 40, 55],\n",
        "    'Column4':[71, 25, 55],\n",
        "    'Column5':[10, 10, 40], }\n",
        "csv_file = \"temp.csv\"\n",
        "try:\n",
        "   with open(csv_file, 'w') as csvfile:\n",
        "       writer = csv.DictWriter(csvfile, fieldnames=csv_columns)\n",
        "       writer.writeheader()\n",
        "       for data in dict_data:\n",
        "           writer.writerow(dict_data)\n",
        "except IOError:\n",
        "   print(\"I/O error\")\n",
        "data = csv.DictReader(open(csv_file))\n",
        "print(\"CSV file as a dictionary:\\n\")\n",
        "for row in data:\n",
        "   print(row)"
      ],
      "metadata": {
        "colab": {
          "base_uri": "https://localhost:8080/"
        },
        "id": "f-2j-yZQCzgk",
        "outputId": "3d2dfbc6-a3d1-4705-d0f1-b632b77c15e9"
      },
      "execution_count": 39,
      "outputs": [
        {
          "output_type": "stream",
          "name": "stdout",
          "text": [
            "CSV file as a dictionary:\n",
            "\n",
            "{'id': \"['1', '2', '3']\", 'Column1': '[33, 25, 56]', 'Column2': '[35, 30, 30]', 'Column3': '[21, 40, 55]', 'Column4': '[71, 25, 55]', 'Column5': '[10, 10, 40]'}\n",
            "{'id': \"['1', '2', '3']\", 'Column1': '[33, 25, 56]', 'Column2': '[35, 30, 30]', 'Column3': '[21, 40, 55]', 'Column4': '[71, 25, 55]', 'Column5': '[10, 10, 40]'}\n",
            "{'id': \"['1', '2', '3']\", 'Column1': '[33, 25, 56]', 'Column2': '[35, 30, 30]', 'Column3': '[21, 40, 55]', 'Column4': '[71, 25, 55]', 'Column5': '[10, 10, 40]'}\n",
            "{'id': \"['1', '2', '3']\", 'Column1': '[33, 25, 56]', 'Column2': '[35, 30, 30]', 'Column3': '[21, 40, 55]', 'Column4': '[71, 25, 55]', 'Column5': '[10, 10, 40]'}\n",
            "{'id': \"['1', '2', '3']\", 'Column1': '[33, 25, 56]', 'Column2': '[35, 30, 30]', 'Column3': '[21, 40, 55]', 'Column4': '[71, 25, 55]', 'Column5': '[10, 10, 40]'}\n",
            "{'id': \"['1', '2', '3']\", 'Column1': '[33, 25, 56]', 'Column2': '[35, 30, 30]', 'Column3': '[21, 40, 55]', 'Column4': '[71, 25, 55]', 'Column5': '[10, 10, 40]'}\n"
          ]
        }
      ]
    }
  ]
}