{
  "nbformat": 4,
  "nbformat_minor": 0,
  "metadata": {
    "colab": {
      "provenance": [],
      "authorship_tag": "ABX9TyOClQSFyxFMfBJNzxYo0JxN",
      "include_colab_link": true
    },
    "kernelspec": {
      "name": "python3",
      "display_name": "Python 3"
    },
    "language_info": {
      "name": "python"
    }
  },
  "cells": [
    {
      "cell_type": "markdown",
      "metadata": {
        "id": "view-in-github",
        "colab_type": "text"
      },
      "source": [
        "<a href=\"https://colab.research.google.com/github/shevtsovasofi/IT_course/blob/main/regex.ipynb\" target=\"_parent\"><img src=\"https://colab.research.google.com/assets/colab-badge.svg\" alt=\"Open In Colab\"/></a>"
      ]
    },
    {
      "cell_type": "markdown",
      "source": [
        "1 Task: Find all words in a string that start with a capital letter.\n",
        "\t\"Hello world, this is a Regex example with Python.\""
      ],
      "metadata": {
        "id": "YQdFX5dLRraq"
      }
    },
    {
      "cell_type": "code",
      "source": [
        "import re\n",
        "\n",
        "string = \"Hello world, this is a Regex example with Python.\"\n",
        "\n",
        "pattern = r'\\b[A-Z][a-z]*\\b' #регулярное выражение для поиска слов с большой буквы\n",
        "capitals = re.findall(pattern, string) #ищем в строке все непересекабщиеся шаблоны паттерна\n",
        "print(capitals)"
      ],
      "metadata": {
        "colab": {
          "base_uri": "https://localhost:8080/"
        },
        "id": "auoa4J-U81mc",
        "outputId": "8220979b-c2d8-4f4a-f7e1-41c373dc081d"
      },
      "execution_count": 1,
      "outputs": [
        {
          "output_type": "stream",
          "name": "stdout",
          "text": [
            "['Hello', 'Regex', 'Python']\n"
          ]
        }
      ]
    },
    {
      "cell_type": "markdown",
      "source": [
        "2 Task: Replace all instances of \"is\" with \"was\" in the string.\n",
        "\t\"This is a test. This is only a test.\""
      ],
      "metadata": {
        "id": "ySXuuPaRRzYa"
      }
    },
    {
      "cell_type": "code",
      "source": [
        "import re\n",
        "string = \"This is a test. This is only a test.\"\n",
        "\n",
        "final = re.sub(r'\\bis\\b', 'was', string) #даем понять, что нам нужно заменить только отдельно стоящие is на was\n",
        "print(final)"
      ],
      "metadata": {
        "colab": {
          "base_uri": "https://localhost:8080/"
        },
        "id": "SrsU5HJs-EYt",
        "outputId": "e89e5740-76db-4a8b-e6f4-770fd02a8007"
      },
      "execution_count": 8,
      "outputs": [
        {
          "output_type": "stream",
          "name": "stdout",
          "text": [
            "This was a test. This was only a test.\n"
          ]
        }
      ]
    },
    {
      "cell_type": "markdown",
      "source": [
        "3 Task: Extract All URLs from a Text\n",
        "\"\"\"\n",
        "Visit https://www.example.com or follow http://example.org.\n",
        "You can also check out https://another-example.com/path?arg=val for more details.\n",
        "\"\"\""
      ],
      "metadata": {
        "id": "KxWUyx2VR2Yu"
      }
    },
    {
      "cell_type": "code",
      "source": [
        "import re\n",
        "\n",
        "sentence = \"\"\" Visit https://www.example.com or follow http://example.org. You can also check out https://another-example.com/path?arg=val for more details. \"\"\"\n",
        "pattern = r'https?://[^\\s]+' #ищем все ссылки\n",
        "urls = re.findall(pattern, sentence)\n",
        "print(urls)"
      ],
      "metadata": {
        "colab": {
          "base_uri": "https://localhost:8080/"
        },
        "id": "UmpoglroKrF_",
        "outputId": "cfde2b3d-6abf-4f1d-a66c-8beecd022302"
      },
      "execution_count": 12,
      "outputs": [
        {
          "output_type": "stream",
          "name": "stdout",
          "text": [
            "['https://www.example.com', 'http://example.org.', 'https://another-example.com/path?arg=val']\n"
          ]
        }
      ]
    },
    {
      "cell_type": "markdown",
      "source": [
        "\n",
        "4 Task: Find all hashtags in a comment\n",
        "\t\"Loving the #sunset and #nature! #beautiful_day\""
      ],
      "metadata": {
        "id": "5_iCD-41SCli"
      }
    },
    {
      "cell_type": "code",
      "source": [
        "import re\n",
        "string = \"Loving the #sunset and #nature! #beautiful_day\"\n",
        "pattern = r'#\\w+' #используем регулярку, чтобы найти все слова со знаком хэштега\n",
        "hashtags = re.findall(pattern, string)\n",
        "print(hashtags)"
      ],
      "metadata": {
        "colab": {
          "base_uri": "https://localhost:8080/"
        },
        "id": "RSSmbW62-oPh",
        "outputId": "cd19cb38-7377-4912-dfd3-782c34f2d520"
      },
      "execution_count": 3,
      "outputs": [
        {
          "output_type": "stream",
          "name": "stdout",
          "text": [
            "['#sunset', '#nature', '#beautiful_day']\n"
          ]
        }
      ]
    },
    {
      "cell_type": "markdown",
      "source": [
        "\n",
        "5 Task: Remove the repeated words\n",
        "\t\"This is is a test test string.\""
      ],
      "metadata": {
        "id": "rdeWlXp0SFku"
      }
    },
    {
      "cell_type": "code",
      "execution_count": 5,
      "metadata": {
        "id": "h2mA7-48RpZ5",
        "colab": {
          "base_uri": "https://localhost:8080/"
        },
        "outputId": "37932931-9be7-4423-8e12-537d63aaee03"
      },
      "outputs": [
        {
          "output_type": "stream",
          "name": "stdout",
          "text": [
            "This is a test string.\n"
          ]
        }
      ],
      "source": [
        "import re\n",
        "string = \"This is is a test test string.\"\n",
        "final = re.sub(r'\\b(\\w+)\\s+\\1\\b', r'\\1', string) #находим и удаляем повторяющиеся подряд слова\n",
        "print(final)"
      ]
    }
  ]
}